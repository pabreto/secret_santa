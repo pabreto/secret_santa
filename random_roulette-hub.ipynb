{
 "cells": [
  {
   "cell_type": "code",
   "execution_count": 1,
   "metadata": {},
   "outputs": [],
   "source": [
    "import numpy as np\n",
    "import matplotlib.pyplot as plt\n",
    "from matplotlib.animation import FuncAnimation\n",
    "from PIL import Image\n",
    "import glob"
   ]
  },
  {
   "cell_type": "code",
   "execution_count": 2,
   "metadata": {},
   "outputs": [],
   "source": [
    "import random\n",
    "\n",
    "def generate_random_sequence(n):\n",
    "    # List to store the generated sequence\n",
    "    sequence = []\n",
    "\n",
    "    # Function to generate a random number between 0 and 8 excluding the previous number\n",
    "    def get_random_number(previous_number):\n",
    "        while True:\n",
    "            num = random.randint(0, 7)\n",
    "            if num != previous_number:\n",
    "                return num\n",
    "\n",
    "    previous_number = None\n",
    "\n",
    "    for _ in range(n):\n",
    "        # Generate a random number\n",
    "        num = get_random_number(previous_number)\n",
    "        sequence.append(num)\n",
    "        previous_number = num\n",
    "\n",
    "    return sequence\n",
    "\n",
    "# Specify the length of the sequence you want (e.g., n = 10)\n",
    "n = 100\n",
    "random_sequence = generate_random_sequence(n)"
   ]
  },
  {
   "cell_type": "code",
   "execution_count": 3,
   "metadata": {},
   "outputs": [],
   "source": [
    "imgs = []\n",
    "names = ['Adrien', 'AL', 'Hubert', 'Maman', 'Claire', 'PA', 'Arnaud', 'Lidia'] \n",
    "for i in range(8):\n",
    "    \n",
    "    imgs.append(np.asarray(Image.open(\"pics/\"+f'{names[i]}.png')))"
   ]
  },
  {
   "cell_type": "code",
   "execution_count": 4,
   "metadata": {},
   "outputs": [],
   "source": [
    "total_frames = 45\n",
    "\n",
    "list_imgs_0 = []\n",
    "list_imgs_1 = []\n",
    "list_imgs_2 = []\n",
    "\n",
    "power = 1.2\n",
    "slow_start = 33\n",
    "rdms = generate_random_sequence(total_frames)\n",
    "for i, nb in enumerate(rdms):\n",
    "    if i < slow_start:\n",
    "        list_imgs_0.append(nb)\n",
    "        \n",
    "    if ((i > slow_start) & (i < total_frames)):\n",
    "        for j in range(int((i-slow_start)**(power))):\n",
    "            list_imgs_0.append(nb)\n",
    "\n",
    "\n",
    "start_slow_1 = int(3*len(list_imgs_0) / 4)\n",
    "# \n",
    "# change last roulette0 here\n",
    "\n",
    "rdms1 = generate_random_sequence(start_slow_1)\n",
    "rdms2 = generate_random_sequence(start_slow_1)\n",
    "\n",
    "for i, nb in enumerate(rdms1):\n",
    "    list_imgs_1.append(nb)\n",
    "    list_imgs_2.append(rdms2[i])\n",
    "    list_imgs_0.append(list_imgs_0[-1])\n",
    "\n",
    "\n",
    "rdms = generate_random_sequence(total_frames)\n",
    "\n",
    "for i, nb in enumerate(rdms):\n",
    "    if i < slow_start:\n",
    "        list_imgs_1.append(nb%8)\n",
    "\n",
    "    if ((i > slow_start) & (i < total_frames)):\n",
    "        for j in range(int((i-slow_start)**(power))):\n",
    "            list_imgs_1.append(nb%8)\n",
    "\n",
    "start_slow_2 = int(1*len(list_imgs_1) / 2)\n",
    "\n",
    "# change last roulette1 here\n",
    "\n",
    "rdms = generate_random_sequence(start_slow_2)\n",
    "\n",
    "for i, nb in enumerate(rdms):\n",
    "    list_imgs_2.append(nb%8)\n",
    "    list_imgs_1.append(list_imgs_1[-1])\n",
    "    list_imgs_0.append(list_imgs_0[-1])\n",
    "\n",
    "rdms = generate_random_sequence(start_slow_2)\n",
    "\n",
    "for i, nb in enumerate(rdms):\n",
    "    if i < slow_start:\n",
    "        list_imgs_2.append(nb%8)\n",
    "\n",
    "    if ((i > slow_start) & (i < total_frames)):\n",
    "        for j in range(int((i-slow_start)**(power))):\n",
    "            list_imgs_2.append(nb%8)\n",
    "\n",
    "total_frames = len(list_imgs_2)\n",
    "# change last roulette1 here"
   ]
  },
  {
   "cell_type": "code",
   "execution_count": 5,
   "metadata": {},
   "outputs": [
    {
     "data": {
      "text/plain": [
       "327"
      ]
     },
     "execution_count": 5,
     "metadata": {},
     "output_type": "execute_result"
    }
   ],
   "source": [
    " len(list_imgs_0)"
   ]
  },
  {
   "cell_type": "code",
   "execution_count": 6,
   "metadata": {},
   "outputs": [
    {
     "data": {
      "text/plain": [
       "327"
      ]
     },
     "execution_count": 6,
     "metadata": {},
     "output_type": "execute_result"
    }
   ],
   "source": [
    "total_frames"
   ]
  },
  {
   "cell_type": "code",
   "execution_count": 18,
   "metadata": {},
   "outputs": [
    {
     "data": {
      "image/png": "[encoded data removed]",
      "text/plain": [
       "<Figure size 1700x500 with 3 Axes>"
      ]
     },
     "metadata": {},
     "output_type": "display_data"
    }
   ],
   "source": [
    "\n",
    "# Create a figure and axis\n",
    "fig, ax = plt.subplots(1, 3, figsize=(17, 5))\n",
    "fig.subplots_adjust(left=0, right=1, bottom=0, top=1)\n",
    "fig.patch.set_facecolor([150/255, 40/255, 28/255])\n",
    "# Function to initialize the plot\n",
    "def init():\n",
    "    ax[0].clear()\n",
    "\n",
    "    return []\n",
    "\n",
    "# Function to update the plot for each frame\n",
    "def update(frame):\n",
    "#     print(frame+1%8)\n",
    "    ax[0].clear()\n",
    "    # Your plotting code here\n",
    "    ax[0].imshow(imgs[list_imgs_0[frame]])\n",
    "    \n",
    "    ax[1].clear()\n",
    "    # Your plotting code here\n",
    "    ax[1].imshow(imgs[list_imgs_1[frame]])\n",
    "    \n",
    "    ax[2].clear()\n",
    "    # Your plotting code here\n",
    "    ax[2].imshow(imgs[list_imgs_2[frame]])\n",
    "    for i in range(3):\n",
    "        ax[i].set_xticks([])\n",
    "        ax[i].set_yticks([])\n",
    "\n",
    "# Create the animation\n",
    "ani = FuncAnimation(fig, update, frames=total_frames, init_func=init, repeat=False, interval=50)\n"
   ]
  },
  {
   "cell_type": "code",
   "execution_count": 19,
   "metadata": {},
   "outputs": [],
   "source": [
    "ani.save('test_roulette.mp4') #, dpi=5)"
   ]
  },
  {
   "cell_type": "code",
   "execution_count": null,
   "metadata": {},
   "outputs": [],
   "source": []
  },
  {
   "cell_type": "code",
   "execution_count": null,
   "metadata": {},
   "outputs": [],
   "source": []
  },
  {
   "cell_type": "code",
   "execution_count": null,
   "metadata": {},
   "outputs": [],
   "source": []
  },
  {
   "cell_type": "code",
   "execution_count": null,
   "metadata": {},
   "outputs": [],
   "source": []
  }
 ],
 "metadata": {
  "kernelspec": {
   "display_name": "Python 3 (ipykernel)",
   "language": "python",
   "name": "python3"
  },
  "language_info": {
   "codemirror_mode": {
    "name": "ipython",
    "version": 3
   },
   "file_extension": ".py",
   "mimetype": "text/x-python",
   "name": "python",
   "nbconvert_exporter": "python",
   "pygments_lexer": "ipython3",
   "version": "3.10.12"
  }
 },
 "nbformat": 4,
 "nbformat_minor": 2
}
