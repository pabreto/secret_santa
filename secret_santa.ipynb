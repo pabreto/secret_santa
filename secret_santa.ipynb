{
 "cells": [
  {
   "cell_type": "code",
   "execution_count": 1,
   "id": "ba5ff989",
   "metadata": {},
   "outputs": [],
   "source": [
    "import random as rd\n",
    "import numpy as np\n",
    "import math\n",
    "import numpy as np\n",
    "import matplotlib.pyplot as plt\n",
    "from matplotlib.animation import FuncAnimation\n",
    "from PIL import Image"
   ]
  },
  {
   "cell_type": "code",
   "execution_count": 2,
   "id": "a324a1f9",
   "metadata": {},
   "outputs": [],
   "source": [
    "#Gifts generation\n",
    "n_gifts = 3\n",
    "max_tries = 200\n",
    "verbose = True\n",
    "#Roulette\n",
    "total_frames = 45\n",
    "power = 1.2\n",
    "slow_start = 33"
   ]
  },
  {
   "cell_type": "code",
   "execution_count": 3,
   "id": "1350a939",
   "metadata": {},
   "outputs": [],
   "source": [
    "def initialization():\n",
    "    family_dict = {\n",
    "    \"Maman\":  {\"is_Bretonniere\": True,  \"couple\" : [\"\"],      \"gifts_to\": [], \"gifts_received\":0},\n",
    "    \"PA\":     {\"is_Bretonniere\": True,  \"couple\" : [\"Lidia\"], \"gifts_to\": [], \"gifts_received\":0}, \n",
    "    \"Lidia\":  {\"is_Bretonniere\": False, \"couple\" : [\"PA\"],    \"gifts_to\": [], \"gifts_received\":0},\n",
    "    \"Claire\": {\"is_Bretonniere\": True,  \"couple\" : [\"Adrien\"],\"gifts_to\": [], \"gifts_received\":0},\n",
    "    \"Adrien\": {\"is_Bretonniere\": False, \"couple\" : [\"Claire\"],\"gifts_to\": [], \"gifts_received\":0},\n",
    "    \"Arnaud\": {\"is_Bretonniere\": True,  \"couple\" : [\"AL\"],    \"gifts_to\": [], \"gifts_received\":0},\n",
    "    \"AL\":     {\"is_Bretonniere\": False, \"couple\" : [\"Arnaud\"],\"gifts_to\": [], \"gifts_received\":0},\n",
    "    \"Hubert\": {\"is_Bretonniere\": False, \"couple\" : [\"\"],      \"gifts_to\": [], \"gifts_received\":0}\n",
    "    }\n",
    "    return family_dict"
   ]
  },
  {
   "cell_type": "code",
   "execution_count": 4,
   "id": "19b16473",
   "metadata": {},
   "outputs": [],
   "source": [
    "family_dict=initialization()\n",
    "n_people = len(family_dict)\n",
    "max_combinations = math.comb(n_people-1,n_gifts)\n"
   ]
  },
  {
   "cell_type": "code",
   "execution_count": 5,
   "id": "34166c79",
   "metadata": {},
   "outputs": [],
   "source": [
    "def check_bretonniere(test):\n",
    "    has_bretonniere = any(family_dict[test[i]]['is_Bretonniere'] for i in range(len(test)))\n",
    "    return has_bretonniere"
   ]
  },
  {
   "cell_type": "code",
   "execution_count": 6,
   "id": "c01309c0",
   "metadata": {},
   "outputs": [],
   "source": [
    "#test = rd.sample(list(family_dict.keys()),k=n_gifts)\n",
    "\n",
    "#print(test)\n",
    "#print(type(test))\n",
    "#person=\"AL\"\n",
    "#test=[\"AL\",\"Adrien\",\"Lidia\"]\n",
    "def validation(test, person):\n",
    "    valid_list=True\n",
    "#    check_bretonniere = has_bretonniere(test)\n",
    "    if family_dict[person][\"couple\"][0] in test:\n",
    "        if verbose:\n",
    "            print(\"couple\")\n",
    "        valid_list=False\n",
    "    has_bretonniere=check_bretonniere(test)\n",
    "    if not has_bretonniere:\n",
    "        if verbose:\n",
    "            print(\"no Bretonniere\")\n",
    "        valid_list = False\n",
    "    for gifted in test:\n",
    "            if family_dict[gifted][\"gifts_received\"] >= 3:\n",
    "                valid_list = False\n",
    "#                print(\"Problem: already\", family_dict[gifted][\"gifts_received\"], \"gifts for \", gifted )\n",
    "        \n",
    "#optimized:\n",
    "    #valid_list = not any(family_dict[gifted][\"gifts_received\"] >= 3 for gifted in test)\n",
    "    return valid_list\n",
    "\n",
    "#validation(test,person)"
   ]
  },
  {
   "cell_type": "code",
   "execution_count": 7,
   "id": "dd0b9541",
   "metadata": {},
   "outputs": [],
   "source": [
    "def display_gifts(family_dict):\n",
    "    for p in list(family_dict.keys()):\n",
    "        print(p,\"offers to\",family_dict[p][\"gifts_to\"], family_dict[k][\"gifts_received\"],\"gifts received\")               "
   ]
  },
  {
   "cell_type": "code",
   "execution_count": 8,
   "id": "17af7009",
   "metadata": {},
   "outputs": [
    {
     "name": "stdout",
     "output_type": "stream",
     "text": [
      "try  1\n",
      "Generating presents for  Maman ( try # 1 ) 0\n",
      "Testing ['AL', 'Hubert', 'Lidia'] ( 1 / 35 )\n",
      "no Bretonniere\n",
      "Testing ['Adrien', 'Hubert', 'PA'] ( 2 / 35 )\n",
      "adding 1 present to Adrien . Now has  1 presents.\n",
      "adding 1 present to Hubert . Now has  1 presents.\n",
      "adding 1 present to PA . Now has  1 presents.\n",
      "Maman\n",
      "['Adrien', 'Hubert', 'PA'] 0\n",
      "PA\n",
      "[] 1\n",
      "Lidia\n",
      "[] 0\n",
      "Claire\n",
      "[] 0\n",
      "Adrien\n",
      "[] 1\n",
      "Arnaud\n",
      "[] 0\n",
      "AL\n",
      "[] 0\n",
      "Hubert\n",
      "[] 1\n",
      "----\n",
      "Generating presents for  PA ( try # 1 ) 1\n",
      "Testing ['AL', 'Arnaud', 'Maman'] ( 1 / 35 )\n",
      "adding 1 present to AL . Now has  1 presents.\n",
      "adding 1 present to Arnaud . Now has  1 presents.\n",
      "adding 1 present to Maman . Now has  1 presents.\n",
      "Maman\n",
      "['Adrien', 'Hubert', 'PA'] 1\n",
      "PA\n",
      "['AL', 'Arnaud', 'Maman'] 1\n",
      "Lidia\n",
      "[] 0\n",
      "Claire\n",
      "[] 0\n",
      "Adrien\n",
      "[] 1\n",
      "Arnaud\n",
      "[] 1\n",
      "AL\n",
      "[] 1\n",
      "Hubert\n",
      "[] 1\n",
      "----\n",
      "Generating presents for  Lidia ( try # 1 ) 2\n",
      "Testing ['Arnaud', 'Claire', 'Maman'] ( 1 / 35 )\n",
      "adding 1 present to Arnaud . Now has  2 presents.\n",
      "adding 1 present to Claire . Now has  1 presents.\n",
      "adding 1 present to Maman . Now has  2 presents.\n",
      "Maman\n",
      "['Adrien', 'Hubert', 'PA'] 2\n",
      "PA\n",
      "['AL', 'Arnaud', 'Maman'] 1\n",
      "Lidia\n",
      "['Arnaud', 'Claire', 'Maman'] 0\n",
      "Claire\n",
      "[] 1\n",
      "Adrien\n",
      "[] 1\n",
      "Arnaud\n",
      "[] 2\n",
      "AL\n",
      "[] 1\n",
      "Hubert\n",
      "[] 1\n",
      "----\n",
      "Generating presents for  Claire ( try # 1 ) 3\n",
      "Testing ['Adrien', 'Arnaud', 'PA'] ( 1 / 35 )\n",
      "couple\n",
      "Testing ['AL', 'Arnaud', 'Hubert'] ( 2 / 35 )\n",
      "adding 1 present to AL . Now has  2 presents.\n",
      "adding 1 present to Arnaud . Now has  3 presents.\n",
      "adding 1 present to Hubert . Now has  2 presents.\n",
      "Maman\n",
      "['Adrien', 'Hubert', 'PA'] 2\n",
      "PA\n",
      "['AL', 'Arnaud', 'Maman'] 1\n",
      "Lidia\n",
      "['Arnaud', 'Claire', 'Maman'] 0\n",
      "Claire\n",
      "['AL', 'Arnaud', 'Hubert'] 1\n",
      "Adrien\n",
      "[] 1\n",
      "Arnaud\n",
      "[] 3\n",
      "AL\n",
      "[] 2\n",
      "Hubert\n",
      "[] 2\n",
      "----\n",
      "Generating presents for  Adrien ( try # 1 ) 4\n",
      "Testing ['AL', 'Arnaud', 'PA'] ( 1 / 35 )\n",
      "Testing ['Arnaud', 'Lidia', 'Maman'] ( 2 / 35 )\n",
      "Testing ['Hubert', 'Lidia', 'PA'] ( 3 / 35 )\n",
      "adding 1 present to Hubert . Now has  3 presents.\n",
      "adding 1 present to Lidia . Now has  1 presents.\n",
      "adding 1 present to PA . Now has  2 presents.\n",
      "Maman\n",
      "['Adrien', 'Hubert', 'PA'] 2\n",
      "PA\n",
      "['AL', 'Arnaud', 'Maman'] 2\n",
      "Lidia\n",
      "['Arnaud', 'Claire', 'Maman'] 1\n",
      "Claire\n",
      "['AL', 'Arnaud', 'Hubert'] 1\n",
      "Adrien\n",
      "['Hubert', 'Lidia', 'PA'] 1\n",
      "Arnaud\n",
      "[] 3\n",
      "AL\n",
      "[] 2\n",
      "Hubert\n",
      "[] 3\n",
      "----\n",
      "Generating presents for  Arnaud ( try # 1 ) 5\n",
      "Testing ['AL', 'Adrien', 'Claire'] ( 1 / 35 )\n",
      "couple\n",
      "Testing ['AL', 'Lidia', 'Maman'] ( 2 / 35 )\n",
      "couple\n",
      "Testing ['AL', 'Adrien', 'Maman'] ( 3 / 35 )\n",
      "couple\n",
      "Testing ['Adrien', 'Claire', 'PA'] ( 4 / 35 )\n",
      "adding 1 present to Adrien . Now has  2 presents.\n",
      "adding 1 present to Claire . Now has  2 presents.\n",
      "adding 1 present to PA . Now has  3 presents.\n",
      "Maman\n",
      "['Adrien', 'Hubert', 'PA'] 2\n",
      "PA\n",
      "['AL', 'Arnaud', 'Maman'] 3\n",
      "Lidia\n",
      "['Arnaud', 'Claire', 'Maman'] 1\n",
      "Claire\n",
      "['AL', 'Arnaud', 'Hubert'] 2\n",
      "Adrien\n",
      "['Hubert', 'Lidia', 'PA'] 2\n",
      "Arnaud\n",
      "['Adrien', 'Claire', 'PA'] 3\n",
      "AL\n",
      "[] 2\n",
      "Hubert\n",
      "[] 3\n",
      "----\n",
      "Generating presents for  AL ( try # 1 ) 6\n",
      "Testing ['Arnaud', 'Claire', 'Hubert'] ( 1 / 35 )\n",
      "couple\n",
      "Testing ['Adrien', 'Lidia', 'Maman'] ( 2 / 35 )\n",
      "adding 1 present to Adrien . Now has  3 presents.\n",
      "adding 1 present to Lidia . Now has  2 presents.\n",
      "adding 1 present to Maman . Now has  3 presents.\n",
      "Maman\n",
      "['Adrien', 'Hubert', 'PA'] 3\n",
      "PA\n",
      "['AL', 'Arnaud', 'Maman'] 3\n",
      "Lidia\n",
      "['Arnaud', 'Claire', 'Maman'] 2\n",
      "Claire\n",
      "['AL', 'Arnaud', 'Hubert'] 2\n",
      "Adrien\n",
      "['Hubert', 'Lidia', 'PA'] 3\n",
      "Arnaud\n",
      "['Adrien', 'Claire', 'PA'] 3\n",
      "AL\n",
      "['Adrien', 'Lidia', 'Maman'] 2\n",
      "Hubert\n",
      "[] 3\n",
      "----\n",
      "Generating presents for  Hubert ( try # 1 ) 7\n",
      "Testing ['AL', 'Claire', 'Lidia'] ( 1 / 35 )\n",
      "adding 1 present to AL . Now has  3 presents.\n",
      "adding 1 present to Claire . Now has  3 presents.\n",
      "adding 1 present to Lidia . Now has  3 presents.\n",
      "Maman\n",
      "['Adrien', 'Hubert', 'PA'] 3\n",
      "PA\n",
      "['AL', 'Arnaud', 'Maman'] 3\n",
      "Lidia\n",
      "['Arnaud', 'Claire', 'Maman'] 3\n",
      "Claire\n",
      "['AL', 'Arnaud', 'Hubert'] 3\n",
      "Adrien\n",
      "['Hubert', 'Lidia', 'PA'] 3\n",
      "Arnaud\n",
      "['Adrien', 'Claire', 'PA'] 3\n",
      "AL\n",
      "['Adrien', 'Lidia', 'Maman'] 3\n",
      "Hubert\n",
      "['AL', 'Claire', 'Lidia'] 3\n",
      "----\n",
      "Found! (after  1 tries)\n",
      "Maman offers to ['Adrien', 'Hubert', 'PA'] 3 gifts received\n",
      "PA offers to ['AL', 'Arnaud', 'Maman'] 3 gifts received\n",
      "Lidia offers to ['Arnaud', 'Claire', 'Maman'] 3 gifts received\n",
      "Claire offers to ['AL', 'Arnaud', 'Hubert'] 3 gifts received\n",
      "Adrien offers to ['Hubert', 'Lidia', 'PA'] 3 gifts received\n",
      "Arnaud offers to ['Adrien', 'Claire', 'PA'] 3 gifts received\n",
      "AL offers to ['Adrien', 'Lidia', 'Maman'] 3 gifts received\n",
      "Hubert offers to ['AL', 'Claire', 'Lidia'] 3 gifts received\n"
     ]
    }
   ],
   "source": [
    "for j in range(1,max_tries+1):\n",
    "    print(\"try \",j)\n",
    "    family_dict=initialization()\n",
    "    for i in range(0,n_people):\n",
    "        person=list(family_dict.keys())[i]\n",
    "        print(\"Generating presents for \",person,\"( try #\",j,\")\",i)\n",
    "        valid_list = False\n",
    "        max=1\n",
    "        tested_list=[]\n",
    "        while not valid_list and max <= math.comb(n_people-1,n_gifts):\n",
    "            reduced_list = [ name  for name in list(family_dict.keys()) if name != person]\n",
    "            list_test = sorted(rd.sample(reduced_list,k=n_gifts))\n",
    "            if not list_test in tested_list:\n",
    "                tested_list.append(list_test)\n",
    "                if verbose:\n",
    "                    print(\"Testing\",list_test, \"(\",max,\"/\",max_combinations,\")\")\n",
    "                valid_list = validation(list_test,person)\n",
    "                max+=1\n",
    "            if max == max_combinations:\n",
    "                if verbose:\n",
    "                    print(\"all combinations tested\")\n",
    "                    if family_dict[gifted][\"gifts_received\"] != 3:\n",
    "                        valid_list = False\n",
    "                break \n",
    "            \n",
    "        if valid_list:\n",
    "            family_dict[person][\"gifts_to\"]=list_test\n",
    "            for gifted in list(family_dict[person][\"gifts_to\"]):\n",
    "                family_dict[gifted][\"gifts_received\"]+=1\n",
    "                print(\"adding 1 present to\",gifted,\". Now has \",family_dict[gifted][\"gifts_received\"],\"presents.\")\n",
    "            if verbose:\n",
    "                for k in list(family_dict.keys()):\n",
    "                    print(k)\n",
    "                    print(family_dict[k][\"gifts_to\"],family_dict[k][\"gifts_received\"])\n",
    "            print(\"----\")\n",
    "            if i==n_people-1:\n",
    "                print(\"Found! (after \",j,\"tries)\")\n",
    "                j=max_tries\n",
    "                break\n",
    "    \n",
    "        else:\n",
    "            print(\"No valid list found after \",j,\"tries\")\n",
    "            display_gifts(family_dict)\n",
    "            break\n",
    "            \n",
    "    if valid_list and i==n_people -1 :\n",
    "        break\n",
    "display_gifts(family_dict)     "
   ]
  },
  {
   "cell_type": "code",
   "execution_count": 9,
   "id": "3eb7b400",
   "metadata": {},
   "outputs": [
    {
     "data": {
      "text/plain": [
       "[<matplotlib.lines.Line2D at 0x7efc27187070>]"
      ]
     },
     "execution_count": 9,
     "metadata": {},
     "output_type": "execute_result"
    },
    {
     "data": {
      "image/png": "[encoded data removed]",
      "text/plain": [
       "<Figure size 432x288 with 1 Axes>"
      ]
     },
     "metadata": {
      "needs_background": "light"
     },
     "output_type": "display_data"
    }
   ],
   "source": [
    "x = np.linspace(0, 10)\n",
    "plt.plot(x**2)\n",
    "plt.plot(x**(1.5))\n"
   ]
  },
  {
   "cell_type": "code",
   "execution_count": 21,
   "id": "8d311cc9",
   "metadata": {},
   "outputs": [
    {
     "name": "stdout",
     "output_type": "stream",
     "text": [
      "[4, 0, 2, 6, 0, 5, 2, 3, 1, 5, 3, 7, 0, 1, 7, 1, 7, 6, 7, 1, 6, 2, 1, 7, 1, 5, 2, 6, 5, 6, 4, 2, 5, 2, 7, 0, 3, 2, 1, 7, 0, 4, 3, 0, 4, 5, 7, 4, 7, 3, 1, 2, 4, 2, 7, 6, 2, 4, 1, 2, 6, 3, 7, 2, 5, 3, 1, 0, 2, 5, 2, 6, 0, 3, 1, 4, 1, 4, 2, 0, 1, 0, 7, 5, 2, 4, 7, 6, 5, 3, 5, 0, 1, 2, 3, 2, 0, 5, 0, 7]\n"
     ]
    }
   ],
   "source": [
    "def generate_random_sequence(n):\n",
    "    # List to store the generated sequence\n",
    "    sequence = []\n",
    "\n",
    "    # Function to generate a random number between 0 and 8 excluding the previous number\n",
    "    def get_random_number(previous_number):\n",
    "        while True:\n",
    "            num = rd.randint(0, 7)\n",
    "            if num != previous_number:\n",
    "                return num\n",
    "\n",
    "    previous_number = None\n",
    "\n",
    "    for _ in range(n):\n",
    "        # Generate a random number\n",
    "        num = get_random_number(previous_number)\n",
    "        sequence.append(num)\n",
    "        previous_number = num\n",
    "\n",
    "    return sequence\n",
    "\n",
    "# Specify the length of the sequence you want (e.g., n = 10)\n",
    "n = 100\n",
    "random_sequence = generate_random_sequence(n)\n",
    "print(random_sequence)"
   ]
  },
  {
   "cell_type": "code",
   "execution_count": 39,
   "id": "e8c3f601",
   "metadata": {},
   "outputs": [
    {
     "name": "stdout",
     "output_type": "stream",
     "text": [
      "0 0\n",
      "1 6\n",
      "2 5\n",
      "3 1\n",
      "4 7\n",
      "5 0\n",
      "6 1\n",
      "7 3\n",
      "8 1\n",
      "9 6\n"
     ]
    }
   ],
   "source": [
    "nb=1\n",
    "list(family_dict.keys())[0]\n",
    "family_dict[list(family_dict.keys())[nb]][\"gifts_to\"][0]\n",
    "rdms = generate_random_sequence(10)\n",
    "for i,nb in enumerate(rdms):\n",
    "    print(i,nb)"
   ]
  },
  {
   "cell_type": "code",
   "execution_count": 27,
   "id": "ef0b3355",
   "metadata": {},
   "outputs": [],
   "source": [
    "def create_image_list(person,family_dict,total_frames):\n",
    "\n",
    "\n",
    "    list_imgs_0 = []\n",
    "    list_imgs_1 = []\n",
    "    list_imgs_2 = []\n",
    "\n",
    "    rdms = generate_random_sequence(total_frames)\n",
    "    for i, nb in enumerate(rdms):\n",
    "        if i < slow_start:\n",
    "            list_imgs_0.append(family_dict[list(family_dict.keys())[nb]][\"gifts_to\"][0]) #append image name with number corresponding to the random sequence\n",
    "\n",
    "        if ((i > slow_start) & (i < total_frames)):\n",
    "            for j in range(int((i-slow_start)**(power))):\n",
    " #               list_imgs_0.append(nb)\n",
    "                list_imgs_0.append(family_dict[person][\"gifts_to\"][0]) #not sure if should be done here. but this is the index of the last image for list_imgs_0\n",
    " \n",
    "\n",
    "\n",
    "    start_slow_1 = int(3*len(list_imgs_0) / 4)\n",
    "# \n",
    "# change last roulette0 here\n",
    "\n",
    "    rdms1 = generate_random_sequence(start_slow_1)\n",
    "    rdms2 = generate_random_sequence(start_slow_1)\n",
    "\n",
    "    for i, nb in enumerate(rdms1):\n",
    "        list_imgs_1.append(nb)\n",
    "        list_imgs_2.append(rdms2[i])\n",
    "        list_imgs_0.append(list_imgs_0[-1])\n",
    "                \n",
    "\n",
    "\n",
    "    rdms = generate_random_sequence(total_frames)\n",
    "\n",
    "    for i, nb in enumerate(rdms):\n",
    "        if i < slow_start:\n",
    "            list_imgs_1.append(family_dict[nb%8][\"gifts_to\"][1])\n",
    "\n",
    "        if ((i > slow_start) & (i < total_frames)):\n",
    "            for j in range(int((i-slow_start)**(power))):\n",
    "#                list_imgs_1.append(nb%8)\n",
    "                list_imgs_1.append(family_dict[person][\"gifts_to\"][1]) #not sure if should be done here. but this is the index of the last image for list_imgs_1\n",
    " \n",
    "    start_slow_2 = int(1*len(list_imgs_1) / 2)\n",
    "\n",
    "# change last roulette1 here\n",
    "\n",
    "    rdms = generate_random_sequence(start_slow_2)\n",
    "\n",
    "    for i, nb in enumerate(rdms):\n",
    "        list_imgs_2.append(nb%8)\n",
    "        list_imgs_1.append(list_imgs_1[-1])\n",
    "        list_imgs_0.append(list_imgs_0[-1])\n",
    "\n",
    "    rdms = generate_random_sequence(start_slow_2)\n",
    "\n",
    "    for i, nb in enumerate(rdms):\n",
    "        if i < slow_start:\n",
    "            list_imgs_2.append(family_dict[nb%8][\"gifts_to\"][2])\n",
    "\n",
    "        if ((i > slow_start) & (i < total_frames)):\n",
    "            for j in range(int((i-slow_start)**(power))):\n",
    "#                list_imgs_2.append(nb%8) \n",
    "                list_imgs_2.append(family_dict[person][\"gifts_to\"][2]) #not sure if should be done here. but this is the index of the last image for list_imgs_2\n",
    "                \n",
    "\n",
    "    total_frames = len(list_imgs_2)\n",
    "    return list_imgs_0, list_imgs_1, list_imgs_2\n",
    "    \n",
    "# change last roulette1 here"
   ]
  },
  {
   "cell_type": "code",
   "execution_count": 28,
   "id": "ae5790e0",
   "metadata": {},
   "outputs": [
    {
     "data": {
      "text/plain": [
       "45"
      ]
     },
     "execution_count": 28,
     "metadata": {},
     "output_type": "execute_result"
    }
   ],
   "source": [
    "total_frames"
   ]
  },
  {
   "cell_type": "code",
   "execution_count": 29,
   "id": "367c5835",
   "metadata": {},
   "outputs": [
    {
     "ename": "KeyError",
     "evalue": "6",
     "output_type": "error",
     "traceback": [
      "\u001b[0;31m---------------------------------------------------------------------------\u001b[0m",
      "\u001b[0;31mKeyError\u001b[0m                                  Traceback (most recent call last)",
      "\u001b[0;32m/tmp/ipykernel_38733/2988719933.py\u001b[0m in \u001b[0;36m<module>\u001b[0;34m\u001b[0m\n\u001b[0;32m----> 1\u001b[0;31m \u001b[0mcreate_image_list\u001b[0m\u001b[0;34m(\u001b[0m\u001b[0;34m\"Maman\"\u001b[0m\u001b[0;34m,\u001b[0m\u001b[0mfamily_dict\u001b[0m\u001b[0;34m,\u001b[0m \u001b[0mtotal_frames\u001b[0m\u001b[0;34m)\u001b[0m\u001b[0;34m\u001b[0m\u001b[0;34m\u001b[0m\u001b[0m\n\u001b[0m",
      "\u001b[0;32m/tmp/ipykernel_38733/1157358484.py\u001b[0m in \u001b[0;36mcreate_image_list\u001b[0;34m(person, family_dict, total_frames)\u001b[0m\n\u001b[1;32m      9\u001b[0m     \u001b[0;32mfor\u001b[0m \u001b[0mi\u001b[0m\u001b[0;34m,\u001b[0m \u001b[0mnb\u001b[0m \u001b[0;32min\u001b[0m \u001b[0menumerate\u001b[0m\u001b[0;34m(\u001b[0m\u001b[0mrdms\u001b[0m\u001b[0;34m)\u001b[0m\u001b[0;34m:\u001b[0m\u001b[0;34m\u001b[0m\u001b[0;34m\u001b[0m\u001b[0m\n\u001b[1;32m     10\u001b[0m         \u001b[0;32mif\u001b[0m \u001b[0mi\u001b[0m \u001b[0;34m<\u001b[0m \u001b[0mslow_start\u001b[0m\u001b[0;34m:\u001b[0m\u001b[0;34m\u001b[0m\u001b[0;34m\u001b[0m\u001b[0m\n\u001b[0;32m---> 11\u001b[0;31m             \u001b[0mlist_imgs_0\u001b[0m\u001b[0;34m.\u001b[0m\u001b[0mappend\u001b[0m\u001b[0;34m(\u001b[0m\u001b[0mfamily_dict\u001b[0m\u001b[0;34m[\u001b[0m\u001b[0mnb\u001b[0m\u001b[0;34m]\u001b[0m\u001b[0;34m[\u001b[0m\u001b[0;34m\"gifts_to\"\u001b[0m\u001b[0;34m]\u001b[0m\u001b[0;34m[\u001b[0m\u001b[0;36m0\u001b[0m\u001b[0;34m]\u001b[0m\u001b[0;34m)\u001b[0m\u001b[0;34m\u001b[0m\u001b[0;34m\u001b[0m\u001b[0m\n\u001b[0m\u001b[1;32m     12\u001b[0m \u001b[0;34m\u001b[0m\u001b[0m\n\u001b[1;32m     13\u001b[0m         \u001b[0;32mif\u001b[0m \u001b[0;34m(\u001b[0m\u001b[0;34m(\u001b[0m\u001b[0mi\u001b[0m \u001b[0;34m>\u001b[0m \u001b[0mslow_start\u001b[0m\u001b[0;34m)\u001b[0m \u001b[0;34m&\u001b[0m \u001b[0;34m(\u001b[0m\u001b[0mi\u001b[0m \u001b[0;34m<\u001b[0m \u001b[0mtotal_frames\u001b[0m\u001b[0;34m)\u001b[0m\u001b[0;34m)\u001b[0m\u001b[0;34m:\u001b[0m\u001b[0;34m\u001b[0m\u001b[0;34m\u001b[0m\u001b[0m\n",
      "\u001b[0;31mKeyError\u001b[0m: 6"
     ]
    }
   ],
   "source": [
    "create_image_list(\"Maman\",family_dict, total_frames)"
   ]
  },
  {
   "cell_type": "code",
   "execution_count": 18,
   "id": "1483b4d2",
   "metadata": {},
   "outputs": [
    {
     "ename": "TypeError",
     "evalue": "create_image_list() missing 2 required positional arguments: 'family_dict' and 'total_frames'",
     "output_type": "error",
     "traceback": [
      "\u001b[0;31m---------------------------------------------------------------------------\u001b[0m",
      "\u001b[0;31mTypeError\u001b[0m                                 Traceback (most recent call last)",
      "\u001b[0;32m/tmp/ipykernel_38733/1615989165.py\u001b[0m in \u001b[0;36m<module>\u001b[0;34m\u001b[0m\n\u001b[0;32m----> 1\u001b[0;31m \u001b[0mcreate_image_list\u001b[0m\u001b[0;34m(\u001b[0m\u001b[0;34m\"Maman\"\u001b[0m\u001b[0;34m)\u001b[0m\u001b[0;34m\u001b[0m\u001b[0;34m\u001b[0m\u001b[0m\n\u001b[0m\u001b[1;32m      2\u001b[0m \u001b[0;32mfor\u001b[0m \u001b[0mi\u001b[0m \u001b[0;32min\u001b[0m \u001b[0mrange\u001b[0m\u001b[0;34m(\u001b[0m\u001b[0mn_people\u001b[0m\u001b[0;34m)\u001b[0m\u001b[0;34m:\u001b[0m\u001b[0;34m\u001b[0m\u001b[0;34m\u001b[0m\u001b[0m\n\u001b[1;32m      3\u001b[0m     \u001b[0mperson\u001b[0m\u001b[0;34m=\u001b[0m\u001b[0mlist\u001b[0m\u001b[0;34m(\u001b[0m\u001b[0mfamily_dict\u001b[0m\u001b[0;34m.\u001b[0m\u001b[0mkeys\u001b[0m\u001b[0;34m(\u001b[0m\u001b[0;34m)\u001b[0m\u001b[0;34m)\u001b[0m\u001b[0;34m[\u001b[0m\u001b[0mi\u001b[0m\u001b[0;34m]\u001b[0m\u001b[0;34m\u001b[0m\u001b[0;34m\u001b[0m\u001b[0m\n\u001b[1;32m      4\u001b[0m     \u001b[0mprint\u001b[0m\u001b[0;34m(\u001b[0m\u001b[0mperson\u001b[0m\u001b[0;34m)\u001b[0m\u001b[0;34m\u001b[0m\u001b[0;34m\u001b[0m\u001b[0m\n\u001b[1;32m      5\u001b[0m     \u001b[0mlist_imgs_0\u001b[0m\u001b[0;34m,\u001b[0m \u001b[0mlist_imgs_1\u001b[0m\u001b[0;34m,\u001b[0m \u001b[0mlist_imgs_2\u001b[0m \u001b[0;34m=\u001b[0m \u001b[0mcreate_image_list\u001b[0m\u001b[0;34m(\u001b[0m\u001b[0mperson\u001b[0m\u001b[0;34m,\u001b[0m\u001b[0mfamily_dict\u001b[0m\u001b[0;34m,\u001b[0m\u001b[0mtotal_frames\u001b[0m\u001b[0;34m)\u001b[0m\u001b[0;34m\u001b[0m\u001b[0;34m\u001b[0m\u001b[0m\n",
      "\u001b[0;31mTypeError\u001b[0m: create_image_list() missing 2 required positional arguments: 'family_dict' and 'total_frames'"
     ]
    }
   ],
   "source": [
    "for i in range(n_people):\n",
    "    person=list(family_dict.keys())[i]\n",
    "    print(person)\n",
    "    list_imgs_0, list_imgs_1, list_imgs_2 = create_image_list(person,family_dict,total_frames)"
   ]
  },
  {
   "cell_type": "code",
   "execution_count": 17,
   "id": "bcc70524",
   "metadata": {},
   "outputs": [
    {
     "name": "stdout",
     "output_type": "stream",
     "text": [
      "[7, 5, 6, 7, 5, 6, 4, 7, 1, 4, 7, 4, 7, 4, 2, 5, 3, 1, 7, 3, 6, 5, 6, 4, 0, 5, 2, 5, 6, 2, 1, 7, 1, 'AL', 'AL', 'AL', 'AL', 'AL', 'AL', 'AL', 'AL', 'AL', 'AL', 'AL', 'AL', 'AL', 'AL', 'AL', 'AL', 'AL', 'AL', 'AL', 'AL', 'AL', 'AL', 'AL', 'AL', 'AL', 'AL', 'AL', 'AL', 'AL', 'AL', 'AL', 'AL', 'AL', 'AL', 'AL', 'AL', 'AL', 'AL', 'AL', 'AL', 'AL', 'AL', 'AL', 'AL', 'AL', 'AL', 'AL', 'AL', 'AL', 'AL', 'AL', 'AL', 'AL', 'AL', 'AL', 'AL', 'AL', 'AL', 'AL', 'AL', 'AL', 'AL', 'AL', 'AL', 'AL', 'AL', 'AL', 'AL', 'AL', 'AL', 'AL', 'AL', 'AL', 'AL', 'AL', 'AL', 'AL', 'AL', 'AL', 'AL', 'AL', 'AL', 'AL', 'AL', 'AL', 'AL', 'AL', 'AL', 'AL', 'AL', 'AL', 'AL', 'AL', 'AL', 'AL', 'AL', 'AL', 'AL', 'AL', 'AL', 'AL', 'AL', 'AL', 'AL', 'AL', 'AL', 'AL', 'AL', 'AL', 'AL', 'AL', 'AL', 'AL', 'AL', 'AL', 'AL', 'AL', 'AL', 'AL', 'AL', 'AL', 'AL', 'AL', 'AL', 'AL', 'AL', 'AL', 'AL', 'AL', 'AL', 'AL', 'AL', 'AL', 'AL', 'AL', 'AL', 'AL', 'AL', 'AL', 'AL', 'AL', 'AL', 'AL', 'AL', 'AL', 'AL', 'AL', 'AL', 'AL', 'AL', 'AL', 'AL', 'AL', 'AL', 'AL', 'AL', 'AL', 'AL', 'AL', 'AL', 'AL', 'AL', 'AL', 'AL', 'AL', 'AL', 'AL', 'AL', 'AL', 'AL', 'AL', 'AL', 'AL', 'AL', 'AL', 'AL', 'AL', 'AL', 'AL', 'AL', 'AL', 'AL', 'AL', 'AL', 'AL', 'AL', 'AL', 'AL', 'AL', 'AL', 'AL', 'AL', 'AL', 'AL', 'AL', 'AL', 'AL', 'AL', 'AL', 'AL', 'AL', 'AL', 'AL', 'AL', 'AL', 'AL', 'AL', 'AL', 'AL', 'AL', 'AL', 'AL', 'AL', 'AL', 'AL', 'AL', 'AL', 'AL', 'AL', 'AL', 'AL', 'AL', 'AL', 'AL', 'AL', 'AL', 'AL', 'AL', 'AL', 'AL', 'AL', 'AL', 'AL', 'AL', 'AL', 'AL', 'AL', 'AL', 'AL', 'AL', 'AL', 'AL', 'AL', 'AL', 'AL', 'AL', 'AL', 'AL', 'AL', 'AL', 'AL', 'AL', 'AL', 'AL', 'AL', 'AL', 'AL', 'AL', 'AL', 'AL', 'AL', 'AL', 'AL', 'AL', 'AL', 'AL', 'AL', 'AL', 'AL', 'AL', 'AL', 'AL', 'AL', 'AL', 'AL', 'AL', 'AL', 'AL', 'AL', 'AL', 'AL', 'AL', 'AL', 'AL', 'AL', 'AL', 'AL', 'AL', 'AL', 'AL', 'AL', 'AL', 'AL', 'AL']\n"
     ]
    }
   ],
   "source": [
    "print(list_imgs_0)\n",
    "#print(list_imgs_1)\n",
    "#print(list_imgs_2)"
   ]
  },
  {
   "cell_type": "code",
   "execution_count": 15,
   "id": "d1bca76b",
   "metadata": {},
   "outputs": [
    {
     "data": {
      "image/png": "[encoded data removed]",
      "text/plain": [
       "<Figure size 1080x360 with 3 Axes>"
      ]
     },
     "metadata": {
      "needs_background": "light"
     },
     "output_type": "display_data"
    }
   ],
   "source": [
    "imgs = []\n",
    "for i in range(n_people):\n",
    "    imgs.append(np.asarray(Image.open(f'{person}.png')))\n",
    "\n",
    "# Create a figure and axis\n",
    "fig, ax = plt.subplots(1, 3, figsize=(15, 5))\n",
    "\n",
    "# Function to initialize the plot\n",
    "def init_video():\n",
    "    ax[0].clear()\n",
    "\n",
    "    return []\n",
    "\n",
    "# Function to update the plot for each frame\n",
    "def update(frame):\n",
    "#     print(frame+1%8)\n",
    "    ax[0].clear()\n",
    "    # Your plotting code here\n",
    "    ax[0].imshow(imgs[list_imgs_0[frame]])\n",
    "    \n",
    "    ax[1].clear()\n",
    "    # Your plotting code here\n",
    "    ax[1].imshow(imgs[list_imgs_1[frame]])\n",
    "    \n",
    "    ax[2].clear()\n",
    "    # Your plotting code here\n",
    "    ax[2].imshow(imgs[list_imgs_2[frame]])\n",
    "    for i in range(3):\n",
    "        ax[i].set_xticks([])\n",
    "        ax[i].set_yticks([])\n",
    "\n",
    "# Create the animation\n",
    "ani = FuncAnimation(fig, update, frames=total_frames, init_func=init_video, repeat=False, interval=50)\n"
   ]
  },
  {
   "cell_type": "code",
   "execution_count": 16,
   "id": "ecb96af2",
   "metadata": {},
   "outputs": [
    {
     "name": "stderr",
     "output_type": "stream",
     "text": [
      "MovieWriter ffmpeg unavailable; using Pillow instead.\n"
     ]
    },
    {
     "ename": "ValueError",
     "evalue": "unknown file extension: .mp4",
     "output_type": "error",
     "traceback": [
      "\u001b[0;31m---------------------------------------------------------------------------\u001b[0m",
      "\u001b[0;31mTypeError\u001b[0m                                 Traceback (most recent call last)",
      "\u001b[0;32m/usr/lib/python3/dist-packages/matplotlib/animation.py\u001b[0m in \u001b[0;36msaving\u001b[0;34m(self, fig, outfile, dpi, *args, **kwargs)\u001b[0m\n\u001b[1;32m    235\u001b[0m         \u001b[0;32mtry\u001b[0m\u001b[0;34m:\u001b[0m\u001b[0;34m\u001b[0m\u001b[0;34m\u001b[0m\u001b[0m\n\u001b[0;32m--> 236\u001b[0;31m             \u001b[0;32myield\u001b[0m \u001b[0mself\u001b[0m\u001b[0;34m\u001b[0m\u001b[0;34m\u001b[0m\u001b[0m\n\u001b[0m\u001b[1;32m    237\u001b[0m         \u001b[0;32mfinally\u001b[0m\u001b[0;34m:\u001b[0m\u001b[0;34m\u001b[0m\u001b[0;34m\u001b[0m\u001b[0m\n",
      "\u001b[0;32m/usr/lib/python3/dist-packages/matplotlib/animation.py\u001b[0m in \u001b[0;36msave\u001b[0;34m(self, filename, writer, fps, dpi, codec, bitrate, extra_args, metadata, extra_anim, savefig_kwargs, progress_callback)\u001b[0m\n\u001b[1;32m   1090\u001b[0m                     \u001b[0;31m# TODO: See if turning off blit is really necessary\u001b[0m\u001b[0;34m\u001b[0m\u001b[0;34m\u001b[0m\u001b[0m\n\u001b[0;32m-> 1091\u001b[0;31m                     \u001b[0manim\u001b[0m\u001b[0;34m.\u001b[0m\u001b[0m_draw_next_frame\u001b[0m\u001b[0;34m(\u001b[0m\u001b[0md\u001b[0m\u001b[0;34m,\u001b[0m \u001b[0mblit\u001b[0m\u001b[0;34m=\u001b[0m\u001b[0;32mFalse\u001b[0m\u001b[0;34m)\u001b[0m\u001b[0;34m\u001b[0m\u001b[0;34m\u001b[0m\u001b[0m\n\u001b[0m\u001b[1;32m   1092\u001b[0m                     \u001b[0;32mif\u001b[0m \u001b[0mprogress_callback\u001b[0m \u001b[0;32mis\u001b[0m \u001b[0;32mnot\u001b[0m \u001b[0;32mNone\u001b[0m\u001b[0;34m:\u001b[0m\u001b[0;34m\u001b[0m\u001b[0;34m\u001b[0m\u001b[0m\n",
      "\u001b[0;32m/usr/lib/python3/dist-packages/matplotlib/animation.py\u001b[0m in \u001b[0;36m_draw_next_frame\u001b[0;34m(self, framedata, blit)\u001b[0m\n\u001b[1;32m   1125\u001b[0m         \u001b[0mself\u001b[0m\u001b[0;34m.\u001b[0m\u001b[0m_pre_draw\u001b[0m\u001b[0;34m(\u001b[0m\u001b[0mframedata\u001b[0m\u001b[0;34m,\u001b[0m \u001b[0mblit\u001b[0m\u001b[0;34m)\u001b[0m\u001b[0;34m\u001b[0m\u001b[0;34m\u001b[0m\u001b[0m\n\u001b[0;32m-> 1126\u001b[0;31m         \u001b[0mself\u001b[0m\u001b[0;34m.\u001b[0m\u001b[0m_draw_frame\u001b[0m\u001b[0;34m(\u001b[0m\u001b[0mframedata\u001b[0m\u001b[0;34m)\u001b[0m\u001b[0;34m\u001b[0m\u001b[0;34m\u001b[0m\u001b[0m\n\u001b[0m\u001b[1;32m   1127\u001b[0m         \u001b[0mself\u001b[0m\u001b[0;34m.\u001b[0m\u001b[0m_post_draw\u001b[0m\u001b[0;34m(\u001b[0m\u001b[0mframedata\u001b[0m\u001b[0;34m,\u001b[0m \u001b[0mblit\u001b[0m\u001b[0;34m)\u001b[0m\u001b[0;34m\u001b[0m\u001b[0;34m\u001b[0m\u001b[0m\n",
      "\u001b[0;32m/usr/lib/python3/dist-packages/matplotlib/animation.py\u001b[0m in \u001b[0;36m_draw_frame\u001b[0;34m(self, framedata)\u001b[0m\n\u001b[1;32m   1719\u001b[0m         \u001b[0;31m# func needs to return a sequence of any artists that were modified.\u001b[0m\u001b[0;34m\u001b[0m\u001b[0;34m\u001b[0m\u001b[0m\n\u001b[0;32m-> 1720\u001b[0;31m         \u001b[0mself\u001b[0m\u001b[0;34m.\u001b[0m\u001b[0m_drawn_artists\u001b[0m \u001b[0;34m=\u001b[0m \u001b[0mself\u001b[0m\u001b[0;34m.\u001b[0m\u001b[0m_func\u001b[0m\u001b[0;34m(\u001b[0m\u001b[0mframedata\u001b[0m\u001b[0;34m,\u001b[0m \u001b[0;34m*\u001b[0m\u001b[0mself\u001b[0m\u001b[0;34m.\u001b[0m\u001b[0m_args\u001b[0m\u001b[0;34m)\u001b[0m\u001b[0;34m\u001b[0m\u001b[0;34m\u001b[0m\u001b[0m\n\u001b[0m\u001b[1;32m   1721\u001b[0m \u001b[0;34m\u001b[0m\u001b[0m\n",
      "\u001b[0;32m/tmp/ipykernel_38733/2866002672.py\u001b[0m in \u001b[0;36mupdate\u001b[0;34m(frame)\u001b[0m\n\u001b[1;32m     18\u001b[0m     \u001b[0;31m# Your plotting code here\u001b[0m\u001b[0;34m\u001b[0m\u001b[0;34m\u001b[0m\u001b[0m\n\u001b[0;32m---> 19\u001b[0;31m     \u001b[0max\u001b[0m\u001b[0;34m[\u001b[0m\u001b[0;36m0\u001b[0m\u001b[0;34m]\u001b[0m\u001b[0;34m.\u001b[0m\u001b[0mimshow\u001b[0m\u001b[0;34m(\u001b[0m\u001b[0mimgs\u001b[0m\u001b[0;34m[\u001b[0m\u001b[0mlist_imgs_0\u001b[0m\u001b[0;34m[\u001b[0m\u001b[0mframe\u001b[0m\u001b[0;34m]\u001b[0m\u001b[0;34m]\u001b[0m\u001b[0;34m)\u001b[0m\u001b[0;34m\u001b[0m\u001b[0;34m\u001b[0m\u001b[0m\n\u001b[0m\u001b[1;32m     20\u001b[0m \u001b[0;34m\u001b[0m\u001b[0m\n",
      "\u001b[0;31mTypeError\u001b[0m: list indices must be integers or slices, not str",
      "\nDuring handling of the above exception, another exception occurred:\n",
      "\u001b[0;31mKeyError\u001b[0m                                  Traceback (most recent call last)",
      "\u001b[0;32m/usr/lib/python3/dist-packages/PIL/Image.py\u001b[0m in \u001b[0;36msave\u001b[0;34m(self, fp, format, **params)\u001b[0m\n\u001b[1;32m   2191\u001b[0m             \u001b[0;32mtry\u001b[0m\u001b[0;34m:\u001b[0m\u001b[0;34m\u001b[0m\u001b[0;34m\u001b[0m\u001b[0m\n\u001b[0;32m-> 2192\u001b[0;31m                 \u001b[0mformat\u001b[0m \u001b[0;34m=\u001b[0m \u001b[0mEXTENSION\u001b[0m\u001b[0;34m[\u001b[0m\u001b[0mext\u001b[0m\u001b[0;34m]\u001b[0m\u001b[0;34m\u001b[0m\u001b[0;34m\u001b[0m\u001b[0m\n\u001b[0m\u001b[1;32m   2193\u001b[0m             \u001b[0;32mexcept\u001b[0m \u001b[0mKeyError\u001b[0m \u001b[0;32mas\u001b[0m \u001b[0me\u001b[0m\u001b[0;34m:\u001b[0m\u001b[0;34m\u001b[0m\u001b[0;34m\u001b[0m\u001b[0m\n",
      "\u001b[0;31mKeyError\u001b[0m: '.mp4'",
      "\nThe above exception was the direct cause of the following exception:\n",
      "\u001b[0;31mValueError\u001b[0m                                Traceback (most recent call last)",
      "\u001b[0;32m/tmp/ipykernel_38733/573315884.py\u001b[0m in \u001b[0;36m<module>\u001b[0;34m\u001b[0m\n\u001b[0;32m----> 1\u001b[0;31m \u001b[0mani\u001b[0m\u001b[0;34m.\u001b[0m\u001b[0msave\u001b[0m\u001b[0;34m(\u001b[0m\u001b[0;34m'test_roulette.mp4'\u001b[0m\u001b[0;34m)\u001b[0m\u001b[0;31m#, dpi=5)\u001b[0m\u001b[0;34m\u001b[0m\u001b[0;34m\u001b[0m\u001b[0m\n\u001b[0m",
      "\u001b[0;32m/usr/lib/python3/dist-packages/matplotlib/animation.py\u001b[0m in \u001b[0;36msave\u001b[0;34m(self, filename, writer, fps, dpi, codec, bitrate, extra_args, metadata, extra_anim, savefig_kwargs, progress_callback)\u001b[0m\n\u001b[1;32m   1071\u001b[0m         \u001b[0;31m# callback a no-op; canvas.manager = None prevents resizing the GUI\u001b[0m\u001b[0;34m\u001b[0m\u001b[0;34m\u001b[0m\u001b[0m\n\u001b[1;32m   1072\u001b[0m         \u001b[0;31m# widget (both are likewise done in savefig()).\u001b[0m\u001b[0;34m\u001b[0m\u001b[0;34m\u001b[0m\u001b[0m\n\u001b[0;32m-> 1073\u001b[0;31m         \u001b[0;32mwith\u001b[0m \u001b[0mmpl\u001b[0m\u001b[0;34m.\u001b[0m\u001b[0mrc_context\u001b[0m\u001b[0;34m(\u001b[0m\u001b[0;34m{\u001b[0m\u001b[0;34m'savefig.bbox'\u001b[0m\u001b[0;34m:\u001b[0m \u001b[0;32mNone\u001b[0m\u001b[0;34m}\u001b[0m\u001b[0;34m)\u001b[0m\u001b[0;34m,\u001b[0m\u001b[0;31m \u001b[0m\u001b[0;31m\\\u001b[0m\u001b[0;34m\u001b[0m\u001b[0;34m\u001b[0m\u001b[0m\n\u001b[0m\u001b[1;32m   1074\u001b[0m              \u001b[0mwriter\u001b[0m\u001b[0;34m.\u001b[0m\u001b[0msaving\u001b[0m\u001b[0;34m(\u001b[0m\u001b[0mself\u001b[0m\u001b[0;34m.\u001b[0m\u001b[0m_fig\u001b[0m\u001b[0;34m,\u001b[0m \u001b[0mfilename\u001b[0m\u001b[0;34m,\u001b[0m \u001b[0mdpi\u001b[0m\u001b[0;34m)\u001b[0m\u001b[0;34m,\u001b[0m\u001b[0;31m \u001b[0m\u001b[0;31m\\\u001b[0m\u001b[0;34m\u001b[0m\u001b[0;34m\u001b[0m\u001b[0m\n\u001b[1;32m   1075\u001b[0m              cbook._setattr_cm(self._fig.canvas,\n",
      "\u001b[0;32m/usr/lib/python3.10/contextlib.py\u001b[0m in \u001b[0;36m__exit__\u001b[0;34m(self, typ, value, traceback)\u001b[0m\n\u001b[1;32m    151\u001b[0m                 \u001b[0mvalue\u001b[0m \u001b[0;34m=\u001b[0m \u001b[0mtyp\u001b[0m\u001b[0;34m(\u001b[0m\u001b[0;34m)\u001b[0m\u001b[0;34m\u001b[0m\u001b[0;34m\u001b[0m\u001b[0m\n\u001b[1;32m    152\u001b[0m             \u001b[0;32mtry\u001b[0m\u001b[0;34m:\u001b[0m\u001b[0;34m\u001b[0m\u001b[0;34m\u001b[0m\u001b[0m\n\u001b[0;32m--> 153\u001b[0;31m                 \u001b[0mself\u001b[0m\u001b[0;34m.\u001b[0m\u001b[0mgen\u001b[0m\u001b[0;34m.\u001b[0m\u001b[0mthrow\u001b[0m\u001b[0;34m(\u001b[0m\u001b[0mtyp\u001b[0m\u001b[0;34m,\u001b[0m \u001b[0mvalue\u001b[0m\u001b[0;34m,\u001b[0m \u001b[0mtraceback\u001b[0m\u001b[0;34m)\u001b[0m\u001b[0;34m\u001b[0m\u001b[0;34m\u001b[0m\u001b[0m\n\u001b[0m\u001b[1;32m    154\u001b[0m             \u001b[0;32mexcept\u001b[0m \u001b[0mStopIteration\u001b[0m \u001b[0;32mas\u001b[0m \u001b[0mexc\u001b[0m\u001b[0;34m:\u001b[0m\u001b[0;34m\u001b[0m\u001b[0;34m\u001b[0m\u001b[0m\n\u001b[1;32m    155\u001b[0m                 \u001b[0;31m# Suppress StopIteration *unless* it's the same exception that\u001b[0m\u001b[0;34m\u001b[0m\u001b[0;34m\u001b[0m\u001b[0m\n",
      "\u001b[0;32m/usr/lib/python3/dist-packages/matplotlib/animation.py\u001b[0m in \u001b[0;36msaving\u001b[0;34m(self, fig, outfile, dpi, *args, **kwargs)\u001b[0m\n\u001b[1;32m    236\u001b[0m             \u001b[0;32myield\u001b[0m \u001b[0mself\u001b[0m\u001b[0;34m\u001b[0m\u001b[0;34m\u001b[0m\u001b[0m\n\u001b[1;32m    237\u001b[0m         \u001b[0;32mfinally\u001b[0m\u001b[0;34m:\u001b[0m\u001b[0;34m\u001b[0m\u001b[0;34m\u001b[0m\u001b[0m\n\u001b[0;32m--> 238\u001b[0;31m             \u001b[0mself\u001b[0m\u001b[0;34m.\u001b[0m\u001b[0mfinish\u001b[0m\u001b[0;34m(\u001b[0m\u001b[0;34m)\u001b[0m\u001b[0;34m\u001b[0m\u001b[0;34m\u001b[0m\u001b[0m\n\u001b[0m\u001b[1;32m    239\u001b[0m \u001b[0;34m\u001b[0m\u001b[0m\n\u001b[1;32m    240\u001b[0m \u001b[0;34m\u001b[0m\u001b[0m\n",
      "\u001b[0;32m/usr/lib/python3/dist-packages/matplotlib/animation.py\u001b[0m in \u001b[0;36mfinish\u001b[0;34m(self)\u001b[0m\n\u001b[1;32m    512\u001b[0m \u001b[0;34m\u001b[0m\u001b[0m\n\u001b[1;32m    513\u001b[0m     \u001b[0;32mdef\u001b[0m \u001b[0mfinish\u001b[0m\u001b[0;34m(\u001b[0m\u001b[0mself\u001b[0m\u001b[0;34m)\u001b[0m\u001b[0;34m:\u001b[0m\u001b[0;34m\u001b[0m\u001b[0;34m\u001b[0m\u001b[0m\n\u001b[0;32m--> 514\u001b[0;31m         self._frames[0].save(\n\u001b[0m\u001b[1;32m    515\u001b[0m             \u001b[0mself\u001b[0m\u001b[0;34m.\u001b[0m\u001b[0moutfile\u001b[0m\u001b[0;34m,\u001b[0m \u001b[0msave_all\u001b[0m\u001b[0;34m=\u001b[0m\u001b[0;32mTrue\u001b[0m\u001b[0;34m,\u001b[0m \u001b[0mappend_images\u001b[0m\u001b[0;34m=\u001b[0m\u001b[0mself\u001b[0m\u001b[0;34m.\u001b[0m\u001b[0m_frames\u001b[0m\u001b[0;34m[\u001b[0m\u001b[0;36m1\u001b[0m\u001b[0;34m:\u001b[0m\u001b[0;34m]\u001b[0m\u001b[0;34m,\u001b[0m\u001b[0;34m\u001b[0m\u001b[0;34m\u001b[0m\u001b[0m\n\u001b[1;32m    516\u001b[0m             duration=int(1000 / self.fps), loop=0)\n",
      "\u001b[0;32m/usr/lib/python3/dist-packages/PIL/Image.py\u001b[0m in \u001b[0;36msave\u001b[0;34m(self, fp, format, **params)\u001b[0m\n\u001b[1;32m   2192\u001b[0m                 \u001b[0mformat\u001b[0m \u001b[0;34m=\u001b[0m \u001b[0mEXTENSION\u001b[0m\u001b[0;34m[\u001b[0m\u001b[0mext\u001b[0m\u001b[0;34m]\u001b[0m\u001b[0;34m\u001b[0m\u001b[0;34m\u001b[0m\u001b[0m\n\u001b[1;32m   2193\u001b[0m             \u001b[0;32mexcept\u001b[0m \u001b[0mKeyError\u001b[0m \u001b[0;32mas\u001b[0m \u001b[0me\u001b[0m\u001b[0;34m:\u001b[0m\u001b[0;34m\u001b[0m\u001b[0;34m\u001b[0m\u001b[0m\n\u001b[0;32m-> 2194\u001b[0;31m                 \u001b[0;32mraise\u001b[0m \u001b[0mValueError\u001b[0m\u001b[0;34m(\u001b[0m\u001b[0;34mf\"unknown file extension: {ext}\"\u001b[0m\u001b[0;34m)\u001b[0m \u001b[0;32mfrom\u001b[0m \u001b[0me\u001b[0m\u001b[0;34m\u001b[0m\u001b[0;34m\u001b[0m\u001b[0m\n\u001b[0m\u001b[1;32m   2195\u001b[0m \u001b[0;34m\u001b[0m\u001b[0m\n\u001b[1;32m   2196\u001b[0m         \u001b[0;32mif\u001b[0m \u001b[0mformat\u001b[0m\u001b[0;34m.\u001b[0m\u001b[0mupper\u001b[0m\u001b[0;34m(\u001b[0m\u001b[0;34m)\u001b[0m \u001b[0;32mnot\u001b[0m \u001b[0;32min\u001b[0m \u001b[0mSAVE\u001b[0m\u001b[0;34m:\u001b[0m\u001b[0;34m\u001b[0m\u001b[0;34m\u001b[0m\u001b[0m\n",
      "\u001b[0;31mValueError\u001b[0m: unknown file extension: .mp4"
     ]
    }
   ],
   "source": [
    "ani.save('test_roulette.mp4')#, dpi=5)"
   ]
  },
  {
   "cell_type": "code",
   "execution_count": null,
   "id": "dfee2086",
   "metadata": {},
   "outputs": [],
   "source": []
  }
 ],
 "metadata": {
  "kernelspec": {
   "display_name": "Python 3 (ipykernel)",
   "language": "python",
   "name": "python3"
  },
  "language_info": {
   "codemirror_mode": {
    "name": "ipython",
    "version": 3
   },
   "file_extension": ".py",
   "mimetype": "text/x-python",
   "name": "python",
   "nbconvert_exporter": "python",
   "pygments_lexer": "ipython3",
   "version": "3.10.12"
  }
 },
 "nbformat": 4,
 "nbformat_minor": 5
}
